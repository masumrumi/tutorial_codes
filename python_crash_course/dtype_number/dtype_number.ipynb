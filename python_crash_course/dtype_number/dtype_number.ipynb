{
 "cells": [
  {
   "cell_type": "code",
   "execution_count": 1,
   "id": "5285eb28",
   "metadata": {},
   "outputs": [],
   "source": [
    "# variable creation\n",
    "my_var = 12\n",
    "my_var2 = 12.2"
   ]
  },
  {
   "cell_type": "code",
   "execution_count": 2,
   "id": "8cb0166d",
   "metadata": {},
   "outputs": [
    {
     "name": "stdout",
     "output_type": "stream",
     "text": [
      "<class 'int'>\n",
      "<class 'float'>\n"
     ]
    }
   ],
   "source": [
    "# checking data type\n",
    "print(type(my_var))\n",
    "print(type(my_var2))"
   ]
  },
  {
   "cell_type": "code",
   "execution_count": 3,
   "id": "683e99f0",
   "metadata": {},
   "outputs": [],
   "source": [
    "# adding int type with a float type\n",
    "my_var3 = (my_var + my_var2)"
   ]
  },
  {
   "cell_type": "code",
   "execution_count": 4,
   "id": "caf7fa9b",
   "metadata": {},
   "outputs": [
    {
     "name": "stdout",
     "output_type": "stream",
     "text": [
      "24.2\n",
      "<class 'float'>\n"
     ]
    }
   ],
   "source": [
    "print(my_var3)\n",
    "print(type(my_var3))"
   ]
  },
  {
   "cell_type": "code",
   "execution_count": 5,
   "id": "2c331778",
   "metadata": {},
   "outputs": [
    {
     "name": "stdout",
     "output_type": "stream",
     "text": [
      "9\n",
      "8\n",
      "1\n",
      "0\n",
      "1\n",
      "False\n",
      "3.3000000000000003\n"
     ]
    }
   ],
   "source": [
    "# Python order of operation\n",
    "print((1+2)*3)\n",
    "\n",
    "print(2**3)\n",
    "\n",
    "print(5%2)\n",
    "\n",
    "print(4%2)\n",
    "\n",
    "print(7%3)\n",
    "\n",
    "print((1.1+2.2) == 3.3)\n",
    "\n",
    "print(1.1 + 2.2)"
   ]
  },
  {
   "cell_type": "code",
   "execution_count": 6,
   "id": "d5a05044",
   "metadata": {},
   "outputs": [],
   "source": [
    "from decimal import Decimal as D"
   ]
  },
  {
   "cell_type": "code",
   "execution_count": 7,
   "id": "c9774898",
   "metadata": {},
   "outputs": [
    {
     "name": "stdout",
     "output_type": "stream",
     "text": [
      "True\n",
      "<class 'decimal.Decimal'>\n"
     ]
    }
   ],
   "source": [
    "# using decimal module\n",
    "print(D('1.1') + D('2.2') == D('3.3'))\n",
    "\n",
    "print(type(D('1.1')))"
   ]
  },
  {
   "cell_type": "code",
   "execution_count": 8,
   "id": "52848268",
   "metadata": {},
   "outputs": [],
   "source": [
    "import math"
   ]
  },
  {
   "cell_type": "code",
   "execution_count": 9,
   "id": "b594baab",
   "metadata": {},
   "outputs": [
    {
     "name": "stdout",
     "output_type": "stream",
     "text": [
      "3.141592653589793\n",
      "3.0\n"
     ]
    }
   ],
   "source": [
    "## using math module\n",
    "print(math.pi)\n",
    "\n",
    "print(math.sqrt(9))"
   ]
  }
 ],
 "metadata": {
  "kernelspec": {
   "display_name": "Python 3",
   "language": "python",
   "name": "python3"
  },
  "language_info": {
   "codemirror_mode": {
    "name": "ipython",
    "version": 3
   },
   "file_extension": ".py",
   "mimetype": "text/x-python",
   "name": "python",
   "nbconvert_exporter": "python",
   "pygments_lexer": "ipython3",
   "version": "3.8.8"
  }
 },
 "nbformat": 4,
 "nbformat_minor": 5
}
